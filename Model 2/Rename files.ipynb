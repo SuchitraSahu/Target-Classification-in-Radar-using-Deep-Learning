{
 "cells": [
  {
   "cell_type": "code",
   "execution_count": null,
   "metadata": {},
   "outputs": [],
   "source": [
    "# We used this code to rename the audio files as per our labels (Like adding 1_, etc. in their name)"
   ]
  },
  {
   "cell_type": "code",
   "execution_count": 10,
   "metadata": {},
   "outputs": [],
   "source": [
    "from glob2 import glob\n",
    "from pathlib import Path"
   ]
  },
  {
   "cell_type": "code",
   "execution_count": 11,
   "metadata": {},
   "outputs": [],
   "source": [
    "files = glob(r'F:\\00 PS-1\\Project\\imp\\Training audio samples\\*')"
   ]
  },
  {
   "cell_type": "code",
   "execution_count": 16,
   "metadata": {},
   "outputs": [],
   "source": [
    "for file in files:\n",
    "    file_nm = file.split('\\\\')[-1]\n",
    "    x = file_nm.split('_')[0]\n",
    "    y = file_nm.split('_')[-1]\n",
    "\n",
    "    if x == '0':\n",
    "      new_filenm = '0_0_' + y\n",
    "      Path(file).rename(new_filenm)\n",
    "\n",
    "    if x == '1':\n",
    "      new_filenm = '1_0_' + y\n",
    "      Path(file).rename(new_filenm)\n",
    "\n",
    "    if x == '2':\n",
    "      new_filenm = '1_1_' + y\n",
    "      Path(file).rename(new_filenm)\n",
    "\n",
    "    if x == '3':\n",
    "      new_filenm = '1_2_' + y\n",
    "      Path(file).rename(new_filenm)\n",
    "\n",
    "    if x == '4':\n",
    "      new_filenm = '1_3_' + y\n",
    "      Path(file).rename(new_filenm)\n",
    "\n",
    "    if x == '5':\n",
    "      new_filenm = '1_4_' + y\n",
    "      Path(file).rename(new_filenm)\n",
    "\n",
    "    if x == '6':\n",
    "      new_filenm = '2_0_' + y\n",
    "      Path(file).rename(new_filenm)\n",
    "\n",
    "    if x == '7':\n",
    "      new_filenm = '2_1_' + y\n",
    "      Path(file).rename(new_filenm)\n",
    "\n",
    "    if x == '8':\n",
    "      new_filenm = '2_2_' + y\n",
    "      Path(file).rename(new_filenm)\n",
    "\n",
    "    if x == '9':\n",
    "      new_filenm = '2_3_' + y\n",
    "      Path(file).rename(new_filenm)\n",
    "\n",
    "    if x == '10':\n",
    "      new_filenm = '3_0_' + y\n",
    "      Path(file).rename(new_filenm)\n",
    "\n",
    "    if x == '11':\n",
    "      new_filenm = '3_1_' + y\n",
    "      Path(file).rename(new_filenm)\n",
    "\n",
    "    if x == '12':\n",
    "      new_filenm = '3_2_' + y\n",
    "      Path(file).rename(new_filenm)\n",
    "\n",
    "    if x == '13':\n",
    "      new_filenm = '2_2_' + y\n",
    "      Path(file).rename(new_filenm)\n",
    "\n",
    "    if x == '14':\n",
    "      new_filenm = '2_4_' + y\n",
    "      Path(file).rename(new_filenm)\n",
    "\n",
    "    if x == '15':\n",
    "      new_filenm = '2_5_' + y\n",
    "      Path(file).rename(new_filenm)"
   ]
  }
 ],
 "metadata": {
  "kernelspec": {
   "display_name": "Python 3",
   "language": "python",
   "name": "python3"
  },
  "language_info": {
   "codemirror_mode": {
    "name": "ipython",
    "version": 3
   },
   "file_extension": ".py",
   "mimetype": "text/x-python",
   "name": "python",
   "nbconvert_exporter": "python",
   "pygments_lexer": "ipython3",
   "version": "3.11.1"
  },
  "orig_nbformat": 4
 },
 "nbformat": 4,
 "nbformat_minor": 2
}
